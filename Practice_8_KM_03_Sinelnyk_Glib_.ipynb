{
  "nbformat": 4,
  "nbformat_minor": 0,
  "metadata": {
    "colab": {
      "name": "Practice_7_KM-01_.ipynb",
      "provenance": [],
      "collapsed_sections": []
    },
    "kernelspec": {
      "name": "python3",
      "display_name": "Python 3.8.5 32-bit",
      "metadata": {
        "interpreter": {
          "hash": "08e024eaf82ea5fb8fcb99c4ce74432c30fcbd78e5ce634238870e9d741e565e"
        }
      }
    }
  },
  "cells": [
    {
      "cell_type": "markdown",
      "metadata": {
        "id": "FMqboNwO4rVs"
      },
      "source": [
        "# **Курс \"Програмування на мові Python\"**\n",
        "\n",
        "##### Викладачі:\n",
        "##### Борисенко Павло Борисович\n",
        "##### Щьоголєв Максим Олегович\n"
      ]
    },
    {
      "cell_type": "markdown",
      "metadata": {
        "id": "A2T6MigL5Z06"
      },
      "source": [
        "## **Практичне зайняття №8**\n",
        "\n",
        "### Тема: \"Робота з функціями. Локальні та глобальні змінні\""
      ]
    },
    {
      "cell_type": "markdown",
      "metadata": {
        "id": "cfCdgK2zXm7e"
      },
      "source": [
        "### **Завдання 1 (3 бали)**\n",
        "\n",
        "**Підрахувати визначник матриці, використовуючи перестановки та символ Леві-Чивіти.**\n",
        "\n",
        "Функція random_matrix() призначена для створення квадратної матриці випадкових чисел. Її змінювати непотрібно.\n",
        "\n",
        "Приклад використання методу permutations() для створення списку перестановок також подається у комірці з кодом.\n",
        "\n",
        "1) Створити 3 функції: функцію створення списку перестановок, функцію підрахунку добутків та функцію підрахунку загальної суми.\n",
        "\n",
        "2) Кожна функція має супроводжуватись рядком документації, що буде коротко описувати її призначення.\n",
        "\n",
        "3) Розмірність квадратної матриці має вводитись користувачем з клавіатури. Підрахунки виконувати лише в тому разі, якщо користувач введе ціле додатне число.\n",
        "\n",
        "4) Загальний результат повинен підраховуватись за допомогою композиції функцій.\n",
        "\n",
        "За бажання можна перевірити правильність роботи програми за допомогою функції np.linalg.det(a)."
      ]
    },
    {
      "cell_type": "code",
      "metadata": {
        "id": "ifNX2M7LXm7f"
      },
      "source": [
        "import numpy as np\n",
        "import itertools\n",
        "x = int(input(\"size: \"))\n",
        "def random_matrix(dim):\n",
        "    \"\"\"\n",
        "    The function generates dim x dim array of integers\n",
        "    between 0 and 10.\n",
        "    \"\"\"\n",
        "    matrix = np.random.randint(10, size = (dim, dim))\n",
        "    return matrix\n",
        "#Example of using permutations() method\n",
        "t = list(itertools.permutations('1234567890', x))\n",
        "A = random_matrix(x)\n",
        "print(A)\n",
        "i = 1\n",
        "j = 1\n",
        "def minor(A, i, j):\n",
        "    \"\"\"\n",
        "    find minor\n",
        "    \"\"\"\n",
        "    for i in range(len(A) - 1):\n",
        "        for j in range(len(A) - 1):\n",
        "            if len(A[i]) > len(A[j]):\n",
        "                del A[j]\n",
        "            elif len(A[i]) < len(A[j]):\n",
        "                del A[i]\n",
        "def det_recursive(A):\n",
        "    \"\"\"\n",
        "    funchion use numpy for colculated det matrix(A)\n",
        "    \"\"\"\n",
        "    sol = 0\n",
        "    if A.shape != (1, 1):\n",
        "        for i in range(A.shape[0]):\n",
        "            sol = sol + (-1) ** i * A[i, 0] * det_recursive(np.delete(np.delete(A, 0, axis=1), i, axis=0))\n",
        "        return sol\n",
        "    else:\n",
        "        return A[0, 0]\n",
        "print(det_recursive(A))\n",
        "print(np.linalg.det(A))"
      ],
      "execution_count": 1,
      "outputs": [
        {
          "output_type": "stream",
          "name": "stdout",
          "text": [
            "[[8 1 8 5]\n [3 3 8 1]\n [8 3 7 6]\n [4 0 0 6]]\n-230\n-229.99999999999983\n"
          ]
        }
      ]
    },
    {
      "cell_type": "code",
      "execution_count": null,
      "metadata": {},
      "outputs": [],
      "source": []
    }
  ]
}