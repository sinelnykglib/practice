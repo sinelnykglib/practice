{
  "nbformat": 4,
  "nbformat_minor": 0,
  "metadata": {
    "colab": {
      "name": "Pranctice_3_KM-01_<name>.ipynb",
      "provenance": [],
      "collapsed_sections": []
    },
    "kernelspec": {
      "name": "Python 3.8.5 32-bit",
      "display_name": "Python 3.8.5 32-bit",
      "metadata": {
        "interpreter": {
          "hash": "08e024eaf82ea5fb8fcb99c4ce74432c30fcbd78e5ce634238870e9d741e565e"
        }
      }
    }
  },
  "cells": [
    {
      "cell_type": "markdown",
      "metadata": {
        "id": "1bRxWHr5e8kt"
      },
      "source": [
        "# **Курс \"Програмування на мові Python\"**\n",
        "\n",
        "##### Викладачі:\n",
        "##### Борисенко Павло Борисович\n",
        "##### Щьоголєв Максим Олегович"
      ]
    },
    {
      "cell_type": "markdown",
      "metadata": {
        "id": "buZUwUgFe-kx"
      },
      "source": [
        "## **Практичне зайняття №3**\n",
        "### Тема: \"Перші програми на Python. Введення та виведення даних. Інструкція if\""
      ]
    },
    {
      "cell_type": "markdown",
      "metadata": {
        "id": "PUkxEn8EfAUe"
      },
      "source": [
        "### **Завдання 1 (1,5 бали)**\n",
        "\n"
      ]
    },
    {
      "cell_type": "markdown",
      "metadata": {
        "id": "M7jjwxAvfKa2"
      },
      "source": [
        "**Написати програму введення та виведення даних про одержувача листа (посилки) за стандартами Укрпошти.**\n",
        "\n",
        "1. Усі запити на введення даних повинні супроводжуватись відповідними підказками-поясненнями (бажано англійською мовою).\n",
        "\n",
        "2. Дані мають виводитись так, як показано нижче (з урахуванням кількості рядків та послідовності даних у кожному з них).\n",
        "\n",
        "3. Дані, виділені жирним шрифтом, повинні вводитись із клавіатури. Всього має бути 9 окремих команд введення даних\n",
        "\n",
        "4. Назви змінних повинні бути інформативними та оформленими відповідно до правил іменування змінних\n",
        "\n",
        "5. Додати 2 коментарі, що вказують на блоки введення та виведення даних.\n",
        "\n",
        "***Формат виведення даних:***\n",
        "\n",
        "(1) **Ім'я** (2) **Прізвище**\n",
        "\n",
        "(3) **Номер телефону**\n",
        "\n",
        "Str. (4) **Назва вулиці** (5) **Номер будинку**, ap. (6) **Номер квартири**, (7) **Місто**\n",
        "\n",
        "(8) **Індекс**\n",
        "\n",
        "(9) **Країна**"
      ]
    },
    {
      "cell_type": "code",
      "metadata": {
        "id": "hEJG5C3_fJk9"
      },
      "source": [
        "#Блок введення данних\n",
        "surname = input(\"Surmane: \")\n",
        "name = input(\"Name: \")\n",
        "ph_number = input(\"Phone number: \")\n",
        "street = input(\"Name Street: \")\n",
        "house = input(\"House number: \")\n",
        "flat = input(\"Flat: \")\n",
        "city = input(\"City name: \")\n",
        "index = input(\"Index: \")\n",
        "county = input(\"Country: \")\n",
        "#Блок виведення\n",
        "print(surname, name)\n",
        "print(ph_number)\n",
        "print(street, house, \"ar\", flat, city)\n",
        "print(index)\n",
        "print(county)\n"
      ],
      "execution_count": 16,
      "outputs": [
        {
          "output_type": "stream",
          "name": "stdout",
          "text": [
            " \n\n  ar  \n\n\n"
          ]
        }
      ]
    },
    {
      "cell_type": "markdown",
      "metadata": {
        "id": "4n4p_pz7gFKM"
      },
      "source": [
        "Відповідно до чинної системи оцінювання в КПІ, рейтингові бали R студентів переводяться в оцінки за такою таблицею:\n",
        "\n",
        "R | Grade\n",
        "--- | ---\n",
        "95 - 100 | Excellent\n",
        "85 - 94 | Very good\n",
        "75 - 84 | Good\n",
        "65 - 74 | Satisfactory\n",
        "60 - 64 | Marginal\n",
        "0 - 59 | Unsatisfactory\n",
        "\n",
        "Напишіть програму, яка буде зчитувати рейтинговий бал R, введений користувачем, та виводити відповідну оцінку як частину змістовного повідомлення. Наприклад, якщо користувач вводить рейтинговий бал R 78, ваша програма повинна показати оцінку Good. Програма також повинна виводити повідомлення про помилку, якщо користувач введе від'ємне число або число, більше за 100."
      ]
    },
    {
      "cell_type": "code",
      "execution_count": 22,
      "metadata": {},
      "outputs": [
        {
          "output_type": "error",
          "ename": "ValueError",
          "evalue": "invalid literal for int() with base 10: ''",
          "traceback": [
            "\u001b[1;31m---------------------------------------------------------------------------\u001b[0m",
            "\u001b[1;31mValueError\u001b[0m                                Traceback (most recent call last)",
            "\u001b[1;32m<ipython-input-22-30ee3c443a11>\u001b[0m in \u001b[0;36m<module>\u001b[1;34m\u001b[0m\n\u001b[1;32m----> 1\u001b[1;33m \u001b[0mr\u001b[0m \u001b[1;33m=\u001b[0m \u001b[0mint\u001b[0m\u001b[1;33m(\u001b[0m\u001b[0minput\u001b[0m\u001b[1;33m(\u001b[0m\u001b[1;34m\"write your mark: \"\u001b[0m\u001b[1;33m)\u001b[0m\u001b[1;33m)\u001b[0m\u001b[1;33m\u001b[0m\u001b[1;33m\u001b[0m\u001b[0m\n\u001b[0m\u001b[0;32m      2\u001b[0m \u001b[1;32mif\u001b[0m \u001b[0mr\u001b[0m \u001b[1;33m<\u001b[0m \u001b[1;36m59\u001b[0m\u001b[1;33m:\u001b[0m\u001b[1;33m\u001b[0m\u001b[1;33m\u001b[0m\u001b[0m\n\u001b[0;32m      3\u001b[0m     \u001b[0mprint\u001b[0m\u001b[1;33m(\u001b[0m\u001b[1;34m\"Unsatisfaction\"\u001b[0m\u001b[1;33m)\u001b[0m\u001b[1;33m\u001b[0m\u001b[1;33m\u001b[0m\u001b[0m\n\u001b[0;32m      4\u001b[0m \u001b[1;32melif\u001b[0m \u001b[0mr\u001b[0m \u001b[1;33m<\u001b[0m \u001b[1;36m64\u001b[0m\u001b[1;33m:\u001b[0m\u001b[1;33m\u001b[0m\u001b[1;33m\u001b[0m\u001b[0m\n\u001b[0;32m      5\u001b[0m     \u001b[0mprint\u001b[0m\u001b[1;33m(\u001b[0m\u001b[1;34m\"Marginal\"\u001b[0m\u001b[1;33m)\u001b[0m\u001b[1;33m\u001b[0m\u001b[1;33m\u001b[0m\u001b[0m\n",
            "\u001b[1;31mValueError\u001b[0m: invalid literal for int() with base 10: ''"
          ]
        }
      ],
      "source": [
        "r = int(input(\"write your mark: \"))\n",
        "if r < 59:\n",
        "    print(\"Unsatisfaction\")\n",
        "elif r < 64:\n",
        "    print(\"Marginal\")\n",
        "elif r < 74:\n",
        "    print(\"Satisfactory\")\n",
        "elif r < 84:\n",
        "    print(\"Good\")\n",
        "elif r < 94:\n",
        "    print(\"Very good\")\n",
        "elif r < 100:\n",
        "    print(\"Excellent!\")\n",
        "else: \n",
        "    if r < 0:\n",
        "        print(\"it`s negativ number\") \n",
        "    if r > 100:\n",
        "        print(\"it`s imposible mark\")"
      ]
    },
    {
      "cell_type": "markdown",
      "metadata": {
        "id": "X8fC_GM_nMRi"
      },
      "source": [
        "### **Завдання 3 (бонусне, 1 бал)**"
      ]
    },
    {
      "cell_type": "markdown",
      "metadata": {
        "id": "b593txPwotgN"
      },
      "source": [
        "Мобільний оператор розробив тарифний план, згідно з яким, сплачуючи 100 грн. на місяць, абонент може спілкуватись 50 хвилин з абонентами інших мобільних операторів впродовж цього місяця. У разі перевищення ліміту абоненту надаються ще 50 хвилин до кінця місяця за 50 грн. Якщо ж і цей ліміт було перевищено, абонент сплачуватиме 2 грн. за кожну додаткову хвилину розмов до кінця поточного місяця.\n",
        "\n",
        "Напишіть програму, що підраховує суму коштів, яку доведеться сплатити абоненту за місяць, на основі тривалості його розмов з абонентами інших мобільних операторів (у хвилинах), введеної користувачем з клавіатури. Ваша програма також повинна виводити повідомлення про помилку, якщо користувач введе від'ємне число."
      ]
    },
    {
      "cell_type": "code",
      "metadata": {
        "id": "PA_E_H0Zosu0"
      },
      "source": [
        ""
      ],
      "execution_count": null,
      "outputs": []
    }
  ]
}